{
 "cells": [
  {
   "cell_type": "markdown",
   "id": "669fb807",
   "metadata": {},
   "source": [
    "### Milestone 2:Milestone 2: Descriptive Statistics"
   ]
  },
  {
   "cell_type": "markdown",
   "id": "f2d0a9a2",
   "metadata": {},
   "source": [
    "### 2.1 : Loading Data and creating Database"
   ]
  },
  {
   "cell_type": "code",
   "execution_count": null,
   "id": "ada5e303",
   "metadata": {},
   "outputs": [
    {
     "name": "stdout",
     "output_type": "stream",
     "text": [
      "Requirement already satisfied: ipython-sql in ./venv/lib/python3.13/site-packages (0.5.0)\n",
      "Requirement already satisfied: prettytable in ./venv/lib/python3.13/site-packages (from ipython-sql) (3.16.0)\n",
      "Requirement already satisfied: ipython in ./venv/lib/python3.13/site-packages (from ipython-sql) (9.5.0)\n",
      "Requirement already satisfied: sqlalchemy>=2.0 in ./venv/lib/python3.13/site-packages (from ipython-sql) (2.0.43)\n",
      "Requirement already satisfied: sqlparse in ./venv/lib/python3.13/site-packages (from ipython-sql) (0.5.3)\n",
      "Requirement already satisfied: six in ./venv/lib/python3.13/site-packages (from ipython-sql) (1.17.0)\n",
      "Requirement already satisfied: ipython-genutils in ./venv/lib/python3.13/site-packages (from ipython-sql) (0.2.0)\n",
      "Requirement already satisfied: greenlet>=1 in ./venv/lib/python3.13/site-packages (from sqlalchemy>=2.0->ipython-sql) (3.2.4)\n",
      "Requirement already satisfied: typing-extensions>=4.6.0 in ./venv/lib/python3.13/site-packages (from sqlalchemy>=2.0->ipython-sql) (4.15.0)\n",
      "Requirement already satisfied: decorator in ./venv/lib/python3.13/site-packages (from ipython->ipython-sql) (5.2.1)\n",
      "Requirement already satisfied: ipython-pygments-lexers in ./venv/lib/python3.13/site-packages (from ipython->ipython-sql) (1.1.1)\n",
      "Requirement already satisfied: jedi>=0.16 in ./venv/lib/python3.13/site-packages (from ipython->ipython-sql) (0.19.2)\n",
      "Requirement already satisfied: matplotlib-inline in ./venv/lib/python3.13/site-packages (from ipython->ipython-sql) (0.1.7)\n",
      "Requirement already satisfied: pexpect>4.3 in ./venv/lib/python3.13/site-packages (from ipython->ipython-sql) (4.9.0)\n",
      "Requirement already satisfied: prompt_toolkit<3.1.0,>=3.0.41 in ./venv/lib/python3.13/site-packages (from ipython->ipython-sql) (3.0.52)\n",
      "Requirement already satisfied: pygments>=2.4.0 in ./venv/lib/python3.13/site-packages (from ipython->ipython-sql) (2.19.2)\n",
      "Requirement already satisfied: stack_data in ./venv/lib/python3.13/site-packages (from ipython->ipython-sql) (0.6.3)\n",
      "Requirement already satisfied: traitlets>=5.13.0 in ./venv/lib/python3.13/site-packages (from ipython->ipython-sql) (5.14.3)\n",
      "Requirement already satisfied: wcwidth in ./venv/lib/python3.13/site-packages (from prompt_toolkit<3.1.0,>=3.0.41->ipython->ipython-sql) (0.2.13)\n",
      "Requirement already satisfied: parso<0.9.0,>=0.8.4 in ./venv/lib/python3.13/site-packages (from jedi>=0.16->ipython->ipython-sql) (0.8.5)\n",
      "Requirement already satisfied: ptyprocess>=0.5 in ./venv/lib/python3.13/site-packages (from pexpect>4.3->ipython->ipython-sql) (0.7.0)\n",
      "Requirement already satisfied: executing>=1.2.0 in ./venv/lib/python3.13/site-packages (from stack_data->ipython->ipython-sql) (2.2.1)\n",
      "Requirement already satisfied: asttokens>=2.1.0 in ./venv/lib/python3.13/site-packages (from stack_data->ipython->ipython-sql) (3.0.0)\n",
      "Requirement already satisfied: pure-eval in ./venv/lib/python3.13/site-packages (from stack_data->ipython->ipython-sql) (0.2.3)\n",
      "Note: you may need to restart the kernel to use updated packages.\n",
      "Both tables loaded into SQL successfully!\n"
     ]
    }
   ],
   "source": [
    "import os\n",
    "import json\n",
    "import ast\n",
    "%pip install ipython-sql\n",
    "import pandas as pd\n",
    "import sqlite3\n",
    "%reload_ext sql\n",
    "from collections import Counter\n",
    "import itertools\n",
    "\n",
    "tweets_path = os.path.join(os.getcwd(), \"data/tweets.csv\")\n",
    "users_path = os.path.join(os.getcwd(), \"data/users.csv\")\n",
    "\n",
    "tweets_df = pd.read_csv(tweets_path)\n",
    "users_df = pd.read_csv(users_path)\n",
    "\n",
    "tweets_df['created_at'] = pd.to_datetime(tweets_df['created_at'], unit='s')\n",
    "tweets_df['year'] = tweets_df['created_at'].dt.year\n",
    "tweets_df[\"entities\"] = tweets_df[\"entities\"].apply(lambda x: ast.literal_eval(x) if isinstance(x, str) else x)\n",
    "tweets_df[\"hashtags\"] = tweets_df[\"entities\"].apply(lambda e: [h[\"text\"] for h in e.get(\"hashtags\", [])])\n",
    "tweets_df[\"mentions\"] = tweets_df[\"entities\"].apply(lambda e: [m[\"screen_name\"] for m in e.get(\"user_mentions\", [])])\n",
    "tweets_df[\"urls\"] = tweets_df[\"entities\"].apply(lambda e: [u[\"expanded_url\"] for u in e.get(\"urls\", [])])\n",
    "\n",
    "# Convert lists/dicts into JSON strings before saving to SQLite\n",
    "for col in [\"entities\", \"hashtags\", \"mentions\", \"urls\"]:\n",
    "    if col in tweets_df.columns:\n",
    "        tweets_df[col] = tweets_df[col].apply(lambda x: json.dumps(x) if isinstance(x, (dict, list)) else x)\n",
    "\n",
    "\n",
    "\n",
    "conn = sqlite3.connect(\"congressional_tweets.db\")\n",
    "tweets_df.to_sql(\"tweets\", conn, if_exists=\"replace\", index=False)\n",
    "users_df.to_sql(\"users\", conn, if_exists=\"replace\", index=False)\n",
    "\n",
    "print(\"Both tables loaded into SQL successfully!\")\n",
    "%sql sqlite:///congressional_tweets.db"
   ]
  },
  {
   "cell_type": "markdown",
   "id": "5d6b91c2",
   "metadata": {},
   "source": [
    "### 2.2 : Basic descriptive statistics "
   ]
  },
  {
   "cell_type": "code",
   "execution_count": 2,
   "id": "b6082ad5",
   "metadata": {},
   "outputs": [
    {
     "name": "stdout",
     "output_type": "stream",
     "text": [
      "Tweets columns: ['created_at', 'screen_name', 'user_id', 'text', 'lang', 'retweet_count', 'favorite_count', 'entities', 'in_reply_to_user_id', 'in_reply_to_screen_name', 'source', 'is_quote_status', 'quoted_status_id', 'year', 'hashtags', 'mentions', 'urls']\n",
      "Users columns: ['id', 'id_str', 'screen_name', 'name', 'description', 'followers_count', 'friends_count', 'favourites_count', 'statuses_count', 'verified', 'protected', 'created_at', 'location']\n",
      "\n",
      "Tweets per year:\n",
      "    year  tweets_count\n",
      "0  2008           112\n",
      "1  2009          8234\n",
      "2  2010         13763\n",
      "3  2011         35163\n",
      "4  2012         50791\n",
      "5  2013        124439\n",
      "6  2014        168298\n",
      "7  2015        258244\n",
      "8  2016        354926\n",
      "9  2017        229352\n",
      "\n",
      "Top 10 users by followers:\n",
      "        screen_name  followers_count\n",
      "0  realDonaldTrump         31712585\n",
      "1            POTUS         18545354\n",
      "2       SenSanders          5072538\n",
      "3       CoryBooker          3094413\n",
      "4       marcorubio          2554822\n",
      "5        SenWarren          2412087\n",
      "6    SenJohnMcCain          2274034\n",
      "7      NancyPelosi          1126205\n",
      "8    JerryBrownGov          1119275\n",
      "9       SenTedCruz           960413\n",
      "\n",
      "Engagement stats:\n",
      "    avg_retweets  avg_favorites\n",
      "0    189.994406     200.859345\n"
     ]
    }
   ],
   "source": [
    "print(\"Tweets columns:\", tweets_df.columns.tolist())\n",
    "print(\"Users columns:\", users_df.columns.tolist())\n",
    "\n",
    "# ---  Example: Tweets per year (extract year from created_at) ---\n",
    "query_year = \"\"\"\n",
    "SELECT strftime('%Y', created_at) AS year, COUNT(*) AS tweets_count\n",
    "FROM tweets\n",
    "GROUP BY year\n",
    "ORDER BY year;\n",
    "\"\"\"\n",
    "df_year = pd.read_sql_query(query_year, conn)\n",
    "print(\"\\nTweets per year:\\n\", df_year)\n",
    "\n",
    "# --- Example: Top 10 users by follower count ---\n",
    "query_followers = \"\"\"\n",
    "SELECT screen_name, followers_count\n",
    "FROM users\n",
    "ORDER BY followers_count DESC\n",
    "LIMIT 10;\n",
    "\"\"\"\n",
    "df_top_users = pd.read_sql_query(query_followers, conn)\n",
    "print(\"\\nTop 10 users by followers:\\n\", df_top_users)\n",
    "\n",
    "# ---  Example: Average retweet & favorite count ---\n",
    "query_engagement = \"\"\"\n",
    "SELECT AVG(retweet_count) AS avg_retweets, AVG(favorite_count) AS avg_favorites\n",
    "FROM tweets;\n",
    "\"\"\"\n",
    "df_engagement = pd.read_sql_query(query_engagement, conn)\n",
    "print(\"\\nEngagement stats:\\n\", df_engagement)"
   ]
  },
  {
   "cell_type": "markdown",
   "id": "0040c95f",
   "metadata": {},
   "source": [
    "### 2.3 : User and Engagement Analysis"
   ]
  },
  {
   "cell_type": "code",
   "execution_count": 5,
   "id": "6e26c4bb",
   "metadata": {},
   "outputs": [
    {
     "name": "stdout",
     "output_type": "stream",
     "text": [
      "Top 10 active users:\n",
      "        screen_name  followers_count  total_tweets  avg_retweets  avg_favorites\n",
      "0      RepDonBeyer            31002          3257   1476.662880     105.599939\n",
      "1    SenatorDurbin           148683          3252    153.135301     119.268758\n",
      "2     GovMattBevin            25954          3250     43.810462      47.613231\n",
      "3     MassGovernor           209707          3250     19.979077      28.786769\n",
      "4       GrahamBlog           112365          3249     22.871345      19.828870\n",
      "5    SenRonJohnson            59089          3249     19.616805       8.496153\n",
      "6     SenTomCotton            68048          3249     26.307479      47.006464\n",
      "7     onetoughnerd            61559          3249     12.170822      13.360419\n",
      "8   RepScottPeters            15678          3248     59.641933      15.181958\n",
      "9  GovMalloyOffice           116249          3246    226.144486       9.317006\n",
      "Tweets with at least one hashtag: 611909\n",
      "Tweets with at least one mention: 1243322\n"
     ]
    },
    {
     "ename": "NameError",
     "evalue": "name 'itertools' is not defined",
     "output_type": "error",
     "traceback": [
      "\u001b[31m---------------------------------------------------------------------------\u001b[39m",
      "\u001b[31mNameError\u001b[39m                                 Traceback (most recent call last)",
      "\u001b[36mCell\u001b[39m\u001b[36m \u001b[39m\u001b[32mIn[5]\u001b[39m\u001b[32m, line 30\u001b[39m\n\u001b[32m     27\u001b[39m \u001b[38;5;28mprint\u001b[39m(\u001b[33m\"\u001b[39m\u001b[33mTweets with at least one mention:\u001b[39m\u001b[33m\"\u001b[39m, tweets_with_mentions)\n\u001b[32m     29\u001b[39m \u001b[38;5;66;03m# Flatten all lists to count top hashtags / mentions\u001b[39;00m\n\u001b[32m---> \u001b[39m\u001b[32m30\u001b[39m all_hashtags = \u001b[38;5;28mlist\u001b[39m(\u001b[43mitertools\u001b[49m.chain.from_iterable(tweets_df[\u001b[33m'\u001b[39m\u001b[33mhashtags\u001b[39m\u001b[33m'\u001b[39m]))\n\u001b[32m     31\u001b[39m all_mentions = \u001b[38;5;28mlist\u001b[39m(itertools.chain.from_iterable(tweets_df[\u001b[33m'\u001b[39m\u001b[33mmentions\u001b[39m\u001b[33m'\u001b[39m]))\n\u001b[32m     33\u001b[39m \u001b[38;5;66;03m# Top 10\u001b[39;00m\n",
      "\u001b[31mNameError\u001b[39m: name 'itertools' is not defined"
     ]
    }
   ],
   "source": [
    "# top 10 active users by tweet count\n",
    "\n",
    "query_top_users = \"\"\"\n",
    "SELECT \n",
    "    t.screen_name,\n",
    "    u.followers_count,\n",
    "    COUNT(*) AS total_tweets,\n",
    "    AVG(t.retweet_count) AS avg_retweets,\n",
    "    AVG(t.favorite_count) AS avg_favorites\n",
    "FROM tweets t\n",
    "JOIN users u\n",
    "ON t.user_id = u.id\n",
    "GROUP BY t.screen_name, u.followers_count\n",
    "ORDER BY total_tweets DESC\n",
    "LIMIT 10;\n",
    "\"\"\"\n",
    "\n",
    "df_top_users = pd.read_sql_query(query_top_users, conn)\n",
    "print(\"Top 10 active users:\\n\", df_top_users)\n",
    "\n",
    "\n",
    "# Count tweets with at least one hashtag / mention\n",
    "tweets_with_hashtags = (tweets_df['hashtags'].apply(len) > 0).sum()\n",
    "tweets_with_mentions = (tweets_df['mentions'].apply(len) > 0).sum()\n",
    "\n",
    "print(\"Tweets with at least one hashtag:\", tweets_with_hashtags)\n",
    "print(\"Tweets with at least one mention:\", tweets_with_mentions)\n",
    "\n",
    "# Flatten all lists to count top hashtags / mentions\n",
    "all_hashtags = list(itertools.chain.from_iterable(tweets_df['hashtags']))\n",
    "all_mentions = list(itertools.chain.from_iterable(tweets_df['mentions']))\n",
    "\n",
    "# Top 10\n",
    "top_hashtags = Counter(all_hashtags).most_common(10)\n",
    "top_mentions = Counter(all_mentions).most_common(10)\n",
    "\n",
    "print(\"Top 10 Hashtags:\", top_hashtags)\n",
    "print(\"Top 10 Mentions:\", top_mentions)"
   ]
  }
 ],
 "metadata": {
  "kernelspec": {
   "display_name": "Python (Lobbyists4America)",
   "language": "python",
   "name": "lobbyists4america_venv"
  },
  "language_info": {
   "codemirror_mode": {
    "name": "ipython",
    "version": 3
   },
   "file_extension": ".py",
   "mimetype": "text/x-python",
   "name": "python",
   "nbconvert_exporter": "python",
   "pygments_lexer": "ipython3",
   "version": "3.13.7"
  }
 },
 "nbformat": 4,
 "nbformat_minor": 5
}
