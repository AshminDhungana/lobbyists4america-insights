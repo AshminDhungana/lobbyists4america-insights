{
 "cells": [
  {
   "cell_type": "markdown",
   "metadata": {},
   "source": [
    "# Milestone 1: Project Proposal and Data Selection/Preparation"
   ]
  },
  {
   "cell_type": "markdown",
   "metadata": {},
   "source": [
    "## 1: Preparing for Your Project Proposal"
   ]
  },
  {
   "cell_type": "markdown",
   "metadata": {},
   "source": [
    "### 1.1: Client/Dataset Selection"
   ]
  },
  {
   "cell_type": "markdown",
   "metadata": {},
   "source": [
    "Client: Lobbyists4America\n",
    "\n",
    "Dataset name: Congressional Tweets Dataset (2008–2017)\n",
    "\n",
    "Source (example): https://www.dropbox.com/sh/qrq1pcjsji0v03u/AAC639WcH58tM0YZperwY388a?dl=0\n",
    "\n",
    "Why this dataset was selected:\n",
    "\n",
    "* The dataset directly aligns with Lobbyists4America’s goal: understanding topics, key members, and relationships within U.S. Congress to inform lobbying strategy.\n",
    "\n",
    "* Ten years (2008–2017) gives a broad temporal span to detect topic trends, shifts around major political events (e.g., elections, legislation bursts), and persistent influencers.\n",
    "\n",
    "* Tweets include text, timestamps, user metadata, mentions/retweets — useful for NLP topic modeling, network analysis (mentions/retweets), and member-level summary statistics."
   ]
  },
  {
   "cell_type": "markdown",
   "metadata": {},
   "source": [
    "### 1.2: Data Import & Cleaning"
   ]
  },
  {
   "cell_type": "markdown",
   "metadata": {},
   "source": [
    "1.2.1: Importing the Data"
   ]
  },
  {
   "cell_type": "code",
   "execution_count": null,
   "metadata": {},
   "outputs": [],
   "source": [
    "import json\n",
    "import os\n",
    "import pandas as pd\n",
    "\n",
    "tweets = \"data/tweets.json\"\n",
    "users = \"data/users.json\"\n",
    "\n",
    "tweets_path = os.path.join(os.getcwd(), tweets)\n",
    "users_path = os.path.join(os.getcwd(), users)\n",
    "\n",
    "tweets_data = []\n",
    "user_data = []\n",
    "\n",
    "with open(tweets_path, \"r\", encoding=\"utf-8\") as f:\n",
    "    for line in f:\n",
    "        if line.strip():  # skip empty lines\n",
    "            tweets_data.append(json.loads(line))\n",
    "\n",
    "with open(users_path, \"r\", encoding=\"utf-8\") as f:\n",
    "    for line in f:\n",
    "        if line.strip():  # skip empty lines\n",
    "            user_data.append(json.loads(line))\n",
    "\n",
    "tweets_df = pd.DataFrame(tweets_data)\n",
    "user_df = pd.DataFrame(user_data)"
   ]
  },
  {
   "cell_type": "markdown",
   "metadata": {},
   "source": [
    "1.2.2: Removing unwanted columns "
   ]
  },
  {
   "cell_type": "code",
   "execution_count": null,
   "metadata": {},
   "outputs": [],
   "source": [
    "tweets_columns_needed = [\n",
    "    \"created_at\",\n",
    "    \"screen_name\",\n",
    "    \"user_id\",\n",
    "    \"text\",\n",
    "    \"lang\",\n",
    "    \"retweet_count\",\n",
    "    \"favorite_count\",\n",
    "    \"entities\",\n",
    "    \"in_reply_to_user_id\",\n",
    "    \"in_reply_to_screen_name\",\n",
    "    \"source\",\n",
    "    \"is_quote_status\",\n",
    "    \"quoted_status_id\"\n",
    "]\n",
    "\n",
    "user_columns_needed = [\n",
    "    \"id\",\n",
    "    \"id_str\",\n",
    "    \"screen_name\",\n",
    "    \"name\",\n",
    "    \"description\",\n",
    "    \"followers_count\",\n",
    "    \"friends_count\",\n",
    "    \"favourites_count\",\n",
    "    \"statuses_count\",\n",
    "    \"verified\",\n",
    "    \"protected\",\n",
    "    \"created_at\",\n",
    "    \"location\"\n",
    "]\n",
    "\n",
    "tweets_clean = tweets_df[tweets_columns_needed]\n",
    "user_clean = user_df[user_columns_needed]"
   ]
  },
  {
   "cell_type": "markdown",
   "metadata": {},
   "source": [
    "1.2.2: Data Cleaning "
   ]
  },
  {
   "cell_type": "code",
   "execution_count": null,
   "metadata": {},
   "outputs": [],
   "source": [
    "# Drop completely empty rows\n",
    "tweets_clean = tweets_clean.dropna(how=\"all\")\n",
    "user_clean = user_clean.dropna(how=\"all\")\n",
    "\n",
    "# Fill or drop specific important columns\n",
    "tweets_clean = tweets_clean.dropna(subset=[\"text\", \"created_at\"])\n",
    "user_clean = user_clean.dropna(subset=[\"id\", \"screen_name\"])\n",
    "\n",
    "tweets_clean.drop_duplicates(subset=[\"text\", \"created_at\"], inplace=True)\n",
    "user_clean.drop_duplicates(subset=[\"id\"], inplace=True)"
   ]
  },
  {
   "cell_type": "markdown",
   "metadata": {},
   "source": [
    "### 1.3: Initial exploration of data"
   ]
  },
  {
   "cell_type": "code",
   "execution_count": null,
   "metadata": {},
   "outputs": [],
   "source": [
    "# Number of rows and columns\n",
    "print(\"Tweets dataset shape:\", tweets_clean.shape)\n",
    "print(\"User dataset shape:\", user_clean.shape)\n",
    "\n",
    "# Column names\n",
    "print(\"\\nTweets columns:\", tweets_clean.columns.tolist())\n",
    "print(\"User columns:\", user_clean.columns.tolist())\n",
    "\n",
    "# Data types and nulls\n",
    "print(\"\\nTweets info:\")\n",
    "tweets_clean.info()\n",
    "print(\"\\nUser info:\")\n",
    "user_clean.info()\n"
   ]
  },
  {
   "cell_type": "code",
   "execution_count": null,
   "metadata": {},
   "outputs": [],
   "source": [
    "# Numeric stats\n",
    "tweets_clean.describe()\n",
    "user_clean.describe()\n"
   ]
  },
  {
   "cell_type": "code",
   "execution_count": null,
   "metadata": {},
   "outputs": [],
   "source": [
    "import matplotlib.pyplot as plt\n",
    "\n",
    "# Top 10 users by followers\n",
    "user_clean.nlargest(10, 'followers_count')[['screen_name','followers_count']].plot.bar(x='screen_name', y='followers_count', legend=False)\n",
    "plt.title(\"Top 10 users by followers\")\n",
    "plt.ylabel(\"Followers count\")\n",
    "plt.show()\n"
   ]
  },
  {
   "cell_type": "markdown",
   "metadata": {},
   "source": [
    "### 1.4 : Proposed ERD"
   ]
  },
  {
   "cell_type": "code",
   "execution_count": null,
   "metadata": {},
   "outputs": [],
   "source": [
    "import matplotlib.pyplot as plt\n",
    "import matplotlib.image as mpimg\n",
    "\n",
    "# Load the image\n",
    "img = mpimg.imread('./data/ERD.png')\n",
    "\n",
    "# Display the image\n",
    "plt.imshow(img)\n",
    "plt.axis('off')  # Hide axes\n",
    "plt.show()"
   ]
  },
  {
   "cell_type": "markdown",
   "metadata": {},
   "source": [
    "### 1.5 : Saving the data to CSV\n"
   ]
  },
  {
   "cell_type": "code",
   "execution_count": null,
   "metadata": {},
   "outputs": [],
   "source": [
    "tweets = \"data/tweets.csv\"\n",
    "users = \"data/users..csv\"\n",
    "\n",
    "tweets_path = os.path.join(os.getcwd(), tweets)\n",
    "users_path = os.path.join(os.getcwd(), users)\n",
    "\n",
    "tweets_clean.to_csv(tweets_path, index=False)\n",
    "user_clean.to_csv(users_path, index=False)"
   ]
  }
 ],
 "metadata": {
  "kernelspec": {
   "display_name": "Python (Lobbyists4America)",
   "language": "python",
   "name": "lobbyists4america_venv"
  },
  "language_info": {
   "codemirror_mode": {
    "name": "ipython",
    "version": 3
   },
   "file_extension": ".py",
   "mimetype": "text/x-python",
   "name": "python",
   "nbconvert_exporter": "python",
   "pygments_lexer": "ipython3",
   "version": "3.13.7"
  }
 },
 "nbformat": 4,
 "nbformat_minor": 4
}
